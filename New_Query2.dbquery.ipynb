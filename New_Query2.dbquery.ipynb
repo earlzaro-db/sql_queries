{
 "cells": [
  {
   "cell_type": "code",
   "execution_count": 0,
   "metadata": {
    "application/vnd.databricks.v1+cell": {
     "cellMetadata": {},
     "inputWidgets": {},
     "nuid": "15f6a76b-e6bb-41f1-8bd7-dee7acdf714a",
     "showTitle": false,
     "tableResultSettingsMap": {},
     "title": ""
    }
   },
   "outputs": [],
   "source": [
    "SELECT\n",
    "a.usage_date,\n",
    "a.usage_start_time,\n",
    "a.workspace_id,\n",
    "a.sku_name,\n",
    "b.usage_metadata.job_id,\n",
    "b.usage_metadata.job_name,\n",
    "sum(a.usage_quantity) as `Usage`\n",
    "FROM\n",
    "  system.billing.usage a INNER JOIN \n",
    "  (select * from system.billing.usage where date(usage_start_time)>='2024-12-01' and sku_name LIKE ('%ENTERPRISE_JOBS_SERVERLESS%') and usage_metadata.job_id IS NOT NULL) b\n",
    "ON a.usage_start_time=b.usage_start_time and b.usage_end_time=a.usage_end_time\n",
    "WHERE\n",
    "  a.workspace_id=b.workspace_id\n",
    "  AND a.sku_name LIKE ('%PUBLIC_CONNECTIVITY%')\n",
    "  AND date(a.usage_start_time)>='2024-12-01'\n",
    "GROUP BY a.usage_date, a.usage_start_time, a.workspace_id, a.sku_name, b.usage_metadata.job_id, b.usage_metadata.job_name\n",
    "ORDER by usage_start_time ASC\n"
   ]
  }
 ],
 "metadata": {
  "application/vnd.databricks.v1+notebook": {
   "computePreferences": null,
   "dashboards": [],
   "environmentMetadata": null,
   "language": "sql",
   "notebookMetadata": {
    "sqlQueryOptions": {
     "applyAutoLimit": true,
     "catalog": "main",
     "schema": "&"
    }
   },
   "notebookName": "New_Query2.dbquery.ipynb",
   "widgets": {}
  },
  "language_info": {
   "name": "sql"
  }
 },
 "nbformat": 4,
 "nbformat_minor": 0
}
