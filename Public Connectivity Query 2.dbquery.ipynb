{
 "cells": [
  {
   "cell_type": "code",
   "execution_count": 0,
   "metadata": {
    "application/vnd.databricks.v1+cell": {
     "cellMetadata": {},
     "inputWidgets": {},
     "nuid": "b9d0f994-f5d5-491b-ac1b-14b396dcea5e",
     "showTitle": false,
     "tableResultSettingsMap": {},
     "title": ""
    }
   },
   "outputs": [],
   "source": [
    "SELECT\n",
    "a.usage_date,\n",
    "a.usage_start_time,\n",
    "a.workspace_id,\n",
    "a.sku_name,\n",
    "b.usage_metadata.job_id,\n",
    "b.usage_metadata.job_name,\n",
    "sum(a.usage_quantity) as `Usage`\n",
    "FROM\n",
    "  system.billing.usage a INNER JOIN \n",
    "  (select * from system.billing.usage where date(usage_start_time)>='2024-12-01' and sku_name LIKE ('%ENTERPRISE_JOBS_SERVERLESS%') and usage_metadata.job_id IS NOT NULL) b\n",
    "ON a.usage_start_time=b.usage_start_time and b.usage_end_time=a.usage_end_time\n",
    "WHERE\n",
    "  a.workspace_id=b.workspace_id\n",
    "  AND a.sku_name LIKE ('%PUBLIC_CONNECTIVITY%')\n",
    "  AND date(a.usage_start_time)>='2024-12-01'\n",
    "GROUP BY a.usage_date, a.usage_start_time, a.workspace_id, a.sku_name, b.usage_metadata.job_id, b.usage_metadata.job_name\n",
    "ORDER by usage_start_time ASC\n"
   ]
  }
 ],
 "metadata": {
  "application/vnd.databricks.v1+notebook": {
   "computePreferences": null,
   "dashboards": [],
   "environmentMetadata": null,
   "language": "sql",
   "notebookMetadata": {
    "pythonIndentUnit": 2,
    "sqlQueryOptions": {
     "applyAutoLimit": true,
     "catalog": "system",
     "schema": "billing"
    }
   },
   "notebookName": "Public Connectivity Query 2.dbquery.ipynb",
   "widgets": {}
  },
  "language_info": {
   "name": "sql"
  }
 },
 "nbformat": 4,
 "nbformat_minor": 0
}
