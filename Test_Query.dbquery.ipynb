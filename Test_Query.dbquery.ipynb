{
 "cells": [
  {
   "cell_type": "code",
   "execution_count": 0,
   "metadata": {
    "application/vnd.databricks.v1+cell": {
     "cellMetadata": {},
     "inputWidgets": {},
     "nuid": "f3dbd049-41ac-41a1-b8c4-478b80c574dd",
     "showTitle": false,
     "tableResultSettingsMap": {},
     "title": ""
    }
   },
   "outputs": [],
   "source": [
    "SELECT\n",
    "a.usage_date,\n",
    "a.usage_start_time,\n",
    "b.workspace_id,\n",
    "b.job_id,\n",
    "b.run_id,\n",
    "sum(a.usage_quantity) as `Usage`\n",
    "FROM\n",
    "  usage a INNER JOIN \n",
    "  system.workflow.job_run_timeline b\n",
    "ON a.usage_start_time>=b.period_start_time and b.period_end_time<a.usage_end_time\n",
    "WHERE\n",
    "  a.workspace_id=b.workspace_id\n",
    "  AND a.sku_name LIKE ('%PUBLIC_CONNECTIVITY%')\n",
    "  AND date(b.period_start_time)='2024-12-15'\n",
    "  AND date(a.usage_start_time)='2024-12-15'\n",
    "GROUP BY a.usage_date, a.usage_start_time, b.workspace_id, b.job_id, b.run_id\n",
    "ORDER by USAGE desc\n",
    "\n"
   ]
  }
 ],
 "metadata": {
  "application/vnd.databricks.v1+notebook": {
   "computePreferences": null,
   "dashboards": [],
   "environmentMetadata": null,
   "language": "sql",
   "notebookMetadata": {
    "sqlQueryOptions": {
     "applyAutoLimit": true,
     "catalog": "main",
     "schema": "&"
    }
   },
   "notebookName": "Test_Query.dbquery.ipynb",
   "widgets": {}
  },
  "language_info": {
   "name": "sql"
  }
 },
 "nbformat": 4,
 "nbformat_minor": 0
}
